{
 "cells": [
  {
   "cell_type": "code",
   "execution_count": 1,
   "metadata": {},
   "outputs": [],
   "source": [
    "import pandas as pd"
   ]
  },
  {
   "cell_type": "code",
   "execution_count": 2,
   "metadata": {},
   "outputs": [],
   "source": [
    "df=pd.read_csv(\"./finale.csv\")"
   ]
  },
  {
   "cell_type": "code",
   "execution_count": 3,
   "metadata": {},
   "outputs": [],
   "source": [
    "df=df.drop(columns=[\"Unnamed: 0\"])"
   ]
  },
  {
   "cell_type": "markdown",
   "metadata": {},
   "source": [
    "# Variable discretas y continuas"
   ]
  },
  {
   "cell_type": "code",
   "execution_count": 30,
   "metadata": {},
   "outputs": [],
   "source": [
    "cont_vars=[\n",
    " 'stats.kills',\n",
    " 'stats.deaths',\n",
    " 'stats.assists',\n",
    " 'stats.largestKillingSpree',\n",
    " 'stats.largestMultiKill',\n",
    " 'stats.killingSprees',\n",
    " 'stats.longestTimeSpentLiving',\n",
    " 'stats.doubleKills',\n",
    " 'stats.tripleKills',\n",
    " 'stats.quadraKills',\n",
    " 'stats.pentaKills',\n",
    " 'stats.totalDamageDealt',\n",
    " 'stats.magicDamageDealt',\n",
    " 'stats.physicalDamageDealt',\n",
    " 'stats.trueDamageDealt',\n",
    " 'stats.largestCriticalStrike',\n",
    " 'stats.totalDamageDealtToChampions',\n",
    " 'stats.magicDamageDealtToChampions',\n",
    " 'stats.physicalDamageDealtToChampions',\n",
    " 'stats.trueDamageDealtToChampions',\n",
    " 'stats.totalHeal',\n",
    " 'stats.totalUnitsHealed',\n",
    " 'stats.damageSelfMitigated',\n",
    " 'stats.damageDealtToObjectives',\n",
    " 'stats.damageDealtToTurrets',\n",
    " 'stats.visionScore',\n",
    " 'stats.timeCCingOthers',\n",
    " 'stats.totalDamageTaken',\n",
    " 'stats.magicalDamageTaken',\n",
    " 'stats.physicalDamageTaken',\n",
    " 'stats.trueDamageTaken',\n",
    " 'stats.goldEarned',\n",
    " 'stats.goldSpent',\n",
    " 'stats.turretKills',\n",
    " 'stats.inhibitorKills',\n",
    " 'stats.totalMinionsKilled',\n",
    " 'stats.neutralMinionsKilled',\n",
    " 'stats.neutralMinionsKilledTeamJungle',\n",
    " 'stats.neutralMinionsKilledEnemyJungle',\n",
    " 'stats.totalTimeCrowdControlDealt',\n",
    " 'stats.visionWardsBoughtInGame',\n",
    " 'stats.wardsPlaced',\n",
    " 'stats.wardsKilled']"
   ]
  },
  {
   "cell_type": "code",
   "execution_count": 31,
   "metadata": {},
   "outputs": [],
   "source": [
    "way=['adc.100','adc.200','jungle.100','jungle.200','mid.100','mid.200','support.100','support.200','top.100','top.200']"
   ]
  },
  {
   "cell_type": "code",
   "execution_count": 32,
   "metadata": {},
   "outputs": [],
   "source": [
    "cont=[f\"{i}.{j}\" for i in way for j in cont_vars]"
   ]
  },
  {
   "cell_type": "code",
   "execution_count": 33,
   "metadata": {},
   "outputs": [],
   "source": [
    "disc=list(df.select_dtypes(include=['object']))"
   ]
  },
  {
   "cell_type": "code",
   "execution_count": 34,
   "metadata": {},
   "outputs": [],
   "source": [
    "target=\"win\""
   ]
  },
  {
   "cell_type": "code",
   "execution_count": 35,
   "metadata": {},
   "outputs": [],
   "source": [
    "def missingsPercentages(df):\n",
    "  percentageOfMiss=[]\n",
    "  for i in df.columns.values:\n",
    "    miss=[i,df[i].isnull().sum()/df.shape[0]*100]\n",
    "    percentageOfMiss.append(miss)\n",
    "  return pd.DataFrame(percentageOfMiss,columns=['feat','missings%']).sort_values('missings%',ascending=0).reset_index(drop=True)"
   ]
  },
  {
   "cell_type": "code",
   "execution_count": 36,
   "metadata": {},
   "outputs": [],
   "source": [
    "missings=missingsPercentages(df[cont])"
   ]
  },
  {
   "cell_type": "code",
   "execution_count": 37,
   "metadata": {},
   "outputs": [
    {
     "data": {
      "text/html": [
       "<div>\n",
       "<style scoped>\n",
       "    .dataframe tbody tr th:only-of-type {\n",
       "        vertical-align: middle;\n",
       "    }\n",
       "\n",
       "    .dataframe tbody tr th {\n",
       "        vertical-align: top;\n",
       "    }\n",
       "\n",
       "    .dataframe thead th {\n",
       "        text-align: right;\n",
       "    }\n",
       "</style>\n",
       "<table border=\"1\" class=\"dataframe\">\n",
       "  <thead>\n",
       "    <tr style=\"text-align: right;\">\n",
       "      <th></th>\n",
       "      <th>feat</th>\n",
       "      <th>missings%</th>\n",
       "    </tr>\n",
       "  </thead>\n",
       "  <tbody>\n",
       "    <tr>\n",
       "      <th>0</th>\n",
       "      <td>adc.100.stats.kills</td>\n",
       "      <td>0.0</td>\n",
       "    </tr>\n",
       "    <tr>\n",
       "      <th>1</th>\n",
       "      <td>support.100.stats.neutralMinionsKilledTeamJungle</td>\n",
       "      <td>0.0</td>\n",
       "    </tr>\n",
       "    <tr>\n",
       "      <th>2</th>\n",
       "      <td>support.100.stats.totalMinionsKilled</td>\n",
       "      <td>0.0</td>\n",
       "    </tr>\n",
       "    <tr>\n",
       "      <th>3</th>\n",
       "      <td>support.100.stats.inhibitorKills</td>\n",
       "      <td>0.0</td>\n",
       "    </tr>\n",
       "    <tr>\n",
       "      <th>4</th>\n",
       "      <td>support.100.stats.turretKills</td>\n",
       "      <td>0.0</td>\n",
       "    </tr>\n",
       "    <tr>\n",
       "      <th>...</th>\n",
       "      <td>...</td>\n",
       "      <td>...</td>\n",
       "    </tr>\n",
       "    <tr>\n",
       "      <th>425</th>\n",
       "      <td>jungle.200.stats.totalDamageDealt</td>\n",
       "      <td>0.0</td>\n",
       "    </tr>\n",
       "    <tr>\n",
       "      <th>426</th>\n",
       "      <td>jungle.200.stats.pentaKills</td>\n",
       "      <td>0.0</td>\n",
       "    </tr>\n",
       "    <tr>\n",
       "      <th>427</th>\n",
       "      <td>jungle.200.stats.quadraKills</td>\n",
       "      <td>0.0</td>\n",
       "    </tr>\n",
       "    <tr>\n",
       "      <th>428</th>\n",
       "      <td>jungle.200.stats.tripleKills</td>\n",
       "      <td>0.0</td>\n",
       "    </tr>\n",
       "    <tr>\n",
       "      <th>429</th>\n",
       "      <td>top.200.stats.wardsKilled</td>\n",
       "      <td>0.0</td>\n",
       "    </tr>\n",
       "  </tbody>\n",
       "</table>\n",
       "<p>430 rows × 2 columns</p>\n",
       "</div>"
      ],
      "text/plain": [
       "                                                 feat  missings%\n",
       "0                                 adc.100.stats.kills        0.0\n",
       "1    support.100.stats.neutralMinionsKilledTeamJungle        0.0\n",
       "2                support.100.stats.totalMinionsKilled        0.0\n",
       "3                    support.100.stats.inhibitorKills        0.0\n",
       "4                       support.100.stats.turretKills        0.0\n",
       "..                                                ...        ...\n",
       "425                 jungle.200.stats.totalDamageDealt        0.0\n",
       "426                       jungle.200.stats.pentaKills        0.0\n",
       "427                      jungle.200.stats.quadraKills        0.0\n",
       "428                      jungle.200.stats.tripleKills        0.0\n",
       "429                         top.200.stats.wardsKilled        0.0\n",
       "\n",
       "[430 rows x 2 columns]"
      ]
     },
     "execution_count": 37,
     "metadata": {},
     "output_type": "execute_result"
    }
   ],
   "source": [
    "missings"
   ]
  },
  {
   "cell_type": "code",
   "execution_count": 38,
   "metadata": {},
   "outputs": [],
   "source": [
    "from sklearn.cluster import KMeans\n",
    "from sklearn.preprocessing import MinMaxScaler"
   ]
  },
  {
   "cell_type": "code",
   "execution_count": 39,
   "metadata": {},
   "outputs": [],
   "source": [
    "km = KMeans(n_clusters=10,max_iter=len(df)*2)\n",
    "mms = MinMaxScaler()"
   ]
  },
  {
   "cell_type": "code",
   "execution_count": 40,
   "metadata": {},
   "outputs": [],
   "source": [
    "X = df[cont].copy()"
   ]
  },
  {
   "cell_type": "code",
   "execution_count": 41,
   "metadata": {},
   "outputs": [
    {
     "data": {
      "text/plain": [
       "MinMaxScaler()"
      ]
     },
     "execution_count": 41,
     "metadata": {},
     "output_type": "execute_result"
    }
   ],
   "source": [
    "mms.fit(X)"
   ]
  },
  {
   "cell_type": "code",
   "execution_count": 42,
   "metadata": {},
   "outputs": [],
   "source": [
    "Xs = pd.DataFrame(mms.transform(X),columns=cont)"
   ]
  },
  {
   "cell_type": "code",
   "execution_count": 43,
   "metadata": {},
   "outputs": [
    {
     "name": "stdout",
     "output_type": "stream",
     "text": [
      "CPU times: user 52.4 s, sys: 2.03 s, total: 54.5 s\n",
      "Wall time: 19.5 s\n"
     ]
    },
    {
     "data": {
      "text/plain": [
       "KMeans(max_iter=38472, n_clusters=10)"
      ]
     },
     "execution_count": 43,
     "metadata": {},
     "output_type": "execute_result"
    }
   ],
   "source": [
    "%%time\n",
    "km.fit(Xs)"
   ]
  },
  {
   "cell_type": "code",
   "execution_count": 44,
   "metadata": {},
   "outputs": [],
   "source": [
    "from sklearn.feature_selection import SelectKBest"
   ]
  },
  {
   "cell_type": "code",
   "execution_count": 45,
   "metadata": {},
   "outputs": [],
   "source": [
    "sk = SelectKBest(k=10)"
   ]
  },
  {
   "cell_type": "code",
   "execution_count": 46,
   "metadata": {},
   "outputs": [
    {
     "data": {
      "text/plain": [
       "SelectKBest()"
      ]
     },
     "execution_count": 46,
     "metadata": {},
     "output_type": "execute_result"
    }
   ],
   "source": [
    "sk.fit(Xs,km.predict(Xs))"
   ]
  },
  {
   "cell_type": "code",
   "execution_count": 47,
   "metadata": {},
   "outputs": [],
   "source": [
    "best = [a for a,b in zip(cont,sk.get_support()) if b]"
   ]
  },
  {
   "cell_type": "code",
   "execution_count": 48,
   "metadata": {},
   "outputs": [
    {
     "data": {
      "text/plain": [
       "['adc.100.stats.totalDamageTaken',\n",
       " 'adc.100.stats.goldEarned',\n",
       " 'adc.100.stats.goldSpent',\n",
       " 'adc.200.stats.totalDamageTaken',\n",
       " 'adc.200.stats.goldEarned',\n",
       " 'adc.200.stats.goldSpent',\n",
       " 'jungle.200.stats.totalDamageTaken',\n",
       " 'jungle.200.stats.goldEarned',\n",
       " 'top.100.stats.goldEarned',\n",
       " 'top.200.stats.goldEarned']"
      ]
     },
     "execution_count": 48,
     "metadata": {},
     "output_type": "execute_result"
    }
   ],
   "source": [
    "best"
   ]
  },
  {
   "cell_type": "markdown",
   "metadata": {},
   "source": [
    "# Cluster"
   ]
  },
  {
   "cell_type": "code",
   "execution_count": 49,
   "metadata": {},
   "outputs": [],
   "source": [
    "from sklearn.cluster import KMeans\n",
    "from sklearn.mixture import GaussianMixture\n",
    "from sklearn.preprocessing import MinMaxScaler,StandardScaler\n",
    "from sklearn.decomposition import PCA\n",
    "from sklearn.manifold import MDS,TSNE"
   ]
  },
  {
   "cell_type": "code",
   "execution_count": 50,
   "metadata": {},
   "outputs": [],
   "source": [
    "X = df[best].copy()"
   ]
  },
  {
   "cell_type": "code",
   "execution_count": 51,
   "metadata": {},
   "outputs": [],
   "source": [
    "mms = MinMaxScaler()\n",
    "sts = StandardScaler()"
   ]
  },
  {
   "cell_type": "code",
   "execution_count": 52,
   "metadata": {},
   "outputs": [
    {
     "data": {
      "text/plain": [
       "StandardScaler()"
      ]
     },
     "execution_count": 52,
     "metadata": {},
     "output_type": "execute_result"
    }
   ],
   "source": [
    "mms.fit(X)\n",
    "sts.fit(X)"
   ]
  },
  {
   "cell_type": "code",
   "execution_count": 53,
   "metadata": {},
   "outputs": [],
   "source": [
    "Xs = pd.DataFrame(sts.transform(X),columns = best)"
   ]
  },
  {
   "cell_type": "code",
   "execution_count": 54,
   "metadata": {},
   "outputs": [],
   "source": [
    "Xm = pd.DataFrame(mms.transform(X),columns = best)"
   ]
  },
  {
   "cell_type": "code",
   "execution_count": 55,
   "metadata": {},
   "outputs": [
    {
     "data": {
      "text/plain": [
       "array([0.6735539 , 0.76557162])"
      ]
     },
     "execution_count": 55,
     "metadata": {},
     "output_type": "execute_result"
    }
   ],
   "source": [
    "pca = PCA(n_components=2)\n",
    "pca.fit(Xs)\n",
    "pca.explained_variance_ratio_.cumsum()"
   ]
  },
  {
   "cell_type": "code",
   "execution_count": 56,
   "metadata": {},
   "outputs": [],
   "source": [
    "mds = MDS(n_components=2,n_jobs=-1)\n",
    "tsne =TSNE(n_components=2,n_jobs=-1)"
   ]
  },
  {
   "cell_type": "code",
   "execution_count": 58,
   "metadata": {},
   "outputs": [],
   "source": [
    "Xmini = Xm.sample(frac=0.1).copy()"
   ]
  },
  {
   "cell_type": "code",
   "execution_count": null,
   "metadata": {},
   "outputs": [],
   "source": [
    "%%time\n",
    "xmds = pd.DataFrame(mds.fit_transform(Xmini),columns=['d1','d2'])\n",
    "xtsn = pd.DataFrame(tsne.fit_transform(Xmini),columns=['d1','d2'])"
   ]
  }
 ],
 "metadata": {
  "kernelspec": {
   "display_name": "Python 3",
   "language": "python",
   "name": "python3"
  },
  "language_info": {
   "codemirror_mode": {
    "name": "ipython",
    "version": 3
   },
   "file_extension": ".py",
   "mimetype": "text/x-python",
   "name": "python",
   "nbconvert_exporter": "python",
   "pygments_lexer": "ipython3",
   "version": "3.8.2"
  }
 },
 "nbformat": 4,
 "nbformat_minor": 4
}
