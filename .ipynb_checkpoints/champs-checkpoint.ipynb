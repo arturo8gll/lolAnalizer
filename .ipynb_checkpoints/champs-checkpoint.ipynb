{
 "cells": [
  {
   "cell_type": "code",
   "execution_count": 1,
   "metadata": {},
   "outputs": [],
   "source": [
    "import pandas as pd"
   ]
  },
  {
   "cell_type": "code",
   "execution_count": 3,
   "metadata": {},
   "outputs": [],
   "source": [
    "df=pd.read_json(\"./champion.json\")"
   ]
  },
  {
   "cell_type": "code",
   "execution_count": 4,
   "metadata": {},
   "outputs": [
    {
     "data": {
      "text/plain": [
       "Aatrox     {'version': '10.13.1', 'id': 'Aatrox', 'key': ...\n",
       "Ahri       {'version': '10.13.1', 'id': 'Ahri', 'key': '1...\n",
       "Akali      {'version': '10.13.1', 'id': 'Akali', 'key': '...\n",
       "Alistar    {'version': '10.13.1', 'id': 'Alistar', 'key':...\n",
       "Amumu      {'version': '10.13.1', 'id': 'Amumu', 'key': '...\n",
       "                                 ...                        \n",
       "Zed        {'version': '10.13.1', 'id': 'Zed', 'key': '23...\n",
       "Ziggs      {'version': '10.13.1', 'id': 'Ziggs', 'key': '...\n",
       "Zilean     {'version': '10.13.1', 'id': 'Zilean', 'key': ...\n",
       "Zoe        {'version': '10.13.1', 'id': 'Zoe', 'key': '14...\n",
       "Zyra       {'version': '10.13.1', 'id': 'Zyra', 'key': '1...\n",
       "Name: data, Length: 148, dtype: object"
      ]
     },
     "execution_count": 4,
     "metadata": {},
     "output_type": "execute_result"
    }
   ],
   "source": [
    "df.data"
   ]
  },
  {
   "cell_type": "code",
   "execution_count": 6,
   "metadata": {},
   "outputs": [],
   "source": [
    "champs=pd.json_normalize(df.data)\n"
   ]
  },
  {
   "cell_type": "code",
   "execution_count": 20,
   "metadata": {},
   "outputs": [
    {
     "data": {
      "text/html": [
       "<div>\n",
       "<style scoped>\n",
       "    .dataframe tbody tr th:only-of-type {\n",
       "        vertical-align: middle;\n",
       "    }\n",
       "\n",
       "    .dataframe tbody tr th {\n",
       "        vertical-align: top;\n",
       "    }\n",
       "\n",
       "    .dataframe thead th {\n",
       "        text-align: right;\n",
       "    }\n",
       "</style>\n",
       "<table border=\"1\" class=\"dataframe\">\n",
       "  <thead>\n",
       "    <tr style=\"text-align: right;\">\n",
       "      <th></th>\n",
       "      <th>version</th>\n",
       "      <th>id</th>\n",
       "      <th>key</th>\n",
       "      <th>name</th>\n",
       "      <th>title</th>\n",
       "      <th>blurb</th>\n",
       "      <th>tags</th>\n",
       "      <th>partype</th>\n",
       "      <th>info.attack</th>\n",
       "      <th>info.defense</th>\n",
       "      <th>...</th>\n",
       "      <th>stats.hpregen</th>\n",
       "      <th>stats.hpregenperlevel</th>\n",
       "      <th>stats.mpregen</th>\n",
       "      <th>stats.mpregenperlevel</th>\n",
       "      <th>stats.crit</th>\n",
       "      <th>stats.critperlevel</th>\n",
       "      <th>stats.attackdamage</th>\n",
       "      <th>stats.attackdamageperlevel</th>\n",
       "      <th>stats.attackspeedperlevel</th>\n",
       "      <th>stats.attackspeed</th>\n",
       "    </tr>\n",
       "  </thead>\n",
       "  <tbody>\n",
       "    <tr>\n",
       "      <th>139</th>\n",
       "      <td>10.13.1</td>\n",
       "      <td>Yasuo</td>\n",
       "      <td>157</td>\n",
       "      <td>Yasuo</td>\n",
       "      <td>el Imperdonable</td>\n",
       "      <td>Yasuo, un jonio de gran determinación, es un á...</td>\n",
       "      <td>[Fighter, Assassin]</td>\n",
       "      <td>Flujo</td>\n",
       "      <td>8</td>\n",
       "      <td>4</td>\n",
       "      <td>...</td>\n",
       "      <td>6.5</td>\n",
       "      <td>0.9</td>\n",
       "      <td>0.0</td>\n",
       "      <td>0.0</td>\n",
       "      <td>0</td>\n",
       "      <td>0</td>\n",
       "      <td>60.0</td>\n",
       "      <td>3.2</td>\n",
       "      <td>2.5</td>\n",
       "      <td>0.697</td>\n",
       "    </tr>\n",
       "  </tbody>\n",
       "</table>\n",
       "<p>1 rows × 39 columns</p>\n",
       "</div>"
      ],
      "text/plain": [
       "     version     id  key   name            title  \\\n",
       "139  10.13.1  Yasuo  157  Yasuo  el Imperdonable   \n",
       "\n",
       "                                                 blurb                 tags  \\\n",
       "139  Yasuo, un jonio de gran determinación, es un á...  [Fighter, Assassin]   \n",
       "\n",
       "    partype  info.attack  info.defense  ...  stats.hpregen  \\\n",
       "139   Flujo            8             4  ...            6.5   \n",
       "\n",
       "     stats.hpregenperlevel stats.mpregen stats.mpregenperlevel stats.crit  \\\n",
       "139                    0.9           0.0                   0.0          0   \n",
       "\n",
       "     stats.critperlevel  stats.attackdamage  stats.attackdamageperlevel  \\\n",
       "139                   0                60.0                         3.2   \n",
       "\n",
       "     stats.attackspeedperlevel  stats.attackspeed  \n",
       "139                        2.5              0.697  \n",
       "\n",
       "[1 rows x 39 columns]"
      ]
     },
     "execution_count": 20,
     "metadata": {},
     "output_type": "execute_result"
    }
   ],
   "source": [
    "champs[champs[\"key\"]==\"157\"]"
   ]
  },
  {
   "cell_type": "code",
   "execution_count": null,
   "metadata": {},
   "outputs": [],
   "source": []
  }
 ],
 "metadata": {
  "kernelspec": {
   "display_name": "Python 3",
   "language": "python",
   "name": "python3"
  },
  "language_info": {
   "codemirror_mode": {
    "name": "ipython",
    "version": 3
   },
   "file_extension": ".py",
   "mimetype": "text/x-python",
   "name": "python",
   "nbconvert_exporter": "python",
   "pygments_lexer": "ipython3",
   "version": "3.8.2"
  }
 },
 "nbformat": 4,
 "nbformat_minor": 4
}
