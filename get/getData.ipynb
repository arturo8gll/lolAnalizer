{
 "cells": [
  {
   "cell_type": "code",
   "execution_count": 23,
   "metadata": {},
   "outputs": [],
   "source": [
    "import pandas as pd\n",
    "import os\n",
    "import json\n",
    "import requests\n",
    "import seaborn as sns\n",
    "from tqdm import tqdm\n",
    "import time\n",
    "\n",
    "sns.set(style=\"darkgrid\")"
   ]
  },
  {
   "cell_type": "code",
   "execution_count": 24,
   "metadata": {},
   "outputs": [],
   "source": [
    "players=pd.read_csv(\"./players.csv\")"
   ]
  },
  {
   "cell_type": "code",
   "execution_count": 25,
   "metadata": {},
   "outputs": [],
   "source": [
    "players=players[\"player.summonerName\"].drop_duplicates()"
   ]
  },
  {
   "cell_type": "code",
   "execution_count": 26,
   "metadata": {},
   "outputs": [],
   "source": [
    "KEY_API=\"RGAPI-2cc146d7-1d1b-4dfc-9547-f921fd89a93e\""
   ]
  },
  {
   "cell_type": "code",
   "execution_count": 27,
   "metadata": {},
   "outputs": [],
   "source": [
    "class LolGames:\n",
    "    \n",
    "    def __init__(self, apiKey,typeOfGame):\n",
    "        self.headers = {\"X-Riot-Token\":  apiKey}\n",
    "        self.typeOfGame = typeOfGame\n",
    "    \n",
    "    def getInfoPlayer(self,player):\n",
    "      return requests.get(f\"https://la1.api.riotgames.com/lol/summoner/v4/summoners/by-name/{player}\"\n",
    "                          , headers=self.headers).json()\n",
    "    \n",
    "    def getMatchList(self,account,begin,end):\n",
    "      return requests.get(f\"https://la1.api.riotgames.com/lol/match/v4/matchlists/by-account/{account}?queue={self.typeOfGame}&beginIndex={begin}&endIndex={end}\"\n",
    "                          , headers=self.headers).json()\n",
    "    \n",
    "    def getMatch(self,id):\n",
    "      return requests.get(f\"https://la1.api.riotgames.com/lol/match/v4/matches/{id}\"\n",
    "                          , headers=self.headers).json()\n",
    "    \n",
    "    def matchList(self,player):\n",
    "        matchList=[]\n",
    "        cont=0\n",
    "        while True:\n",
    "            r = self.getMatchList(player,cont,cont+100)\n",
    "            matchList=matchList+r[\"matches\"]\n",
    "            cont+=100\n",
    "            if cont >= r[\"totalGames\"]:\n",
    "                break\n",
    "        return matchList\n",
    "    \n",
    "    def juegos(self,player):\n",
    "        info=self.getInfoPlayer(player)\n",
    "        matchList=self.matchList(info[\"accountId\"])\n",
    "        print(\"Esperando un tiempo ...\")\n",
    "        time.sleep(15)\n",
    "        games=[]\n",
    "        for i in tqdm(range(len(matchList))):  \n",
    "            r=self.getMatch(matchList[i][\"gameId\"])\n",
    "            games.append(r)\n",
    "            time.sleep(1.5)\n",
    "        return games"
   ]
  },
  {
   "cell_type": "code",
   "execution_count": 28,
   "metadata": {},
   "outputs": [],
   "source": [
    "lolInfo=LolGames(KEY_API,420)"
   ]
  },
  {
   "cell_type": "code",
   "execution_count": 29,
   "metadata": {},
   "outputs": [],
   "source": [
    "values=players.values[71:90]"
   ]
  },
  {
   "cell_type": "code",
   "execution_count": 30,
   "metadata": {},
   "outputs": [
    {
     "data": {
      "text/plain": [
       "array(['ZangetsuC14', 'zlSilent Ifrit', 'Ungennant', 'Pabls', 'trovox',\n",
       "       'osdanix', 'Hellu Kitty', 'Chaconsito', 'ViviGamer', 'Murer',\n",
       "       'pekka3090', 'BrithoLord', 'escudo', 'S0T0', 'BhumaNyx', 'Xacro',\n",
       "       'xPusyDestroyer96', 'Silverdragon07', 'Xcesario11'], dtype=object)"
      ]
     },
     "execution_count": 30,
     "metadata": {},
     "output_type": "execute_result"
    }
   ],
   "source": [
    "values"
   ]
  },
  {
   "cell_type": "code",
   "execution_count": 31,
   "metadata": {},
   "outputs": [
    {
     "name": "stdout",
     "output_type": "stream",
     "text": [
      "ZangetsuC14\n",
      "Esperando un tiempo ...\n"
     ]
    },
    {
     "name": "stderr",
     "output_type": "stream",
     "text": [
      "  7%|▋         | 66/977 [03:59<55:03,  3.63s/it]  \n"
     ]
    },
    {
     "name": "stdout",
     "output_type": "stream",
     "text": [
      "No se pudo obtener informacion de ZangetsuC14\n",
      "zlSilent Ifrit\n",
      "No se pudo obtener informacion de zlSilent Ifrit\n",
      "Ungennant\n",
      "No se pudo obtener informacion de Ungennant\n",
      "Pabls\n",
      "Esperando un tiempo ...\n"
     ]
    },
    {
     "name": "stderr",
     "output_type": "stream",
     "text": [
      "  0%|          | 1/1197 [02:25<48:25:37, 145.77s/it]\n"
     ]
    },
    {
     "name": "stdout",
     "output_type": "stream",
     "text": [
      "No se pudo obtener informacion de Pabls\n",
      "trovox\n",
      "No se pudo obtener informacion de trovox\n",
      "osdanix\n",
      "No se pudo obtener informacion de osdanix\n",
      "Hellu Kitty\n",
      "No se pudo obtener informacion de Hellu Kitty\n",
      "Chaconsito\n",
      "No se pudo obtener informacion de Chaconsito\n",
      "ViviGamer\n",
      "No se pudo obtener informacion de ViviGamer\n",
      "Murer\n",
      "No se pudo obtener informacion de Murer\n",
      "pekka3090\n",
      "No se pudo obtener informacion de pekka3090\n",
      "BrithoLord\n",
      "No se pudo obtener informacion de BrithoLord\n",
      "escudo\n",
      "No se pudo obtener informacion de escudo\n",
      "S0T0\n",
      "No se pudo obtener informacion de S0T0\n",
      "BhumaNyx\n",
      "No se pudo obtener informacion de BhumaNyx\n",
      "Xacro\n",
      "No se pudo obtener informacion de Xacro\n",
      "xPusyDestroyer96\n",
      "No se pudo obtener informacion de xPusyDestroyer96\n",
      "Silverdragon07\n",
      "No se pudo obtener informacion de Silverdragon07\n",
      "Xcesario11\n",
      "Esperando un tiempo ...\n"
     ]
    },
    {
     "name": "stderr",
     "output_type": "stream",
     "text": [
      "100%|██████████| 329/329 [12:17<00:00,  2.24s/it]\n"
     ]
    }
   ],
   "source": [
    "for i in values:\n",
    "    try:\n",
    "        print(i)\n",
    "        games=lolInfo.juegos(i)\n",
    "        pd.DataFrame(games).to_json(f\"{i}.json\")\n",
    "    except:\n",
    "        print(f\"No se pudo obtener informacion de {i}\")"
   ]
  },
  {
   "cell_type": "code",
   "execution_count": null,
   "metadata": {},
   "outputs": [],
   "source": []
  }
 ],
 "metadata": {
  "kernelspec": {
   "display_name": "Python 3",
   "language": "python",
   "name": "python3"
  },
  "language_info": {
   "codemirror_mode": {
    "name": "ipython",
    "version": 3
   },
   "file_extension": ".py",
   "mimetype": "text/x-python",
   "name": "python",
   "nbconvert_exporter": "python",
   "pygments_lexer": "ipython3",
   "version": "3.8.2"
  }
 },
 "nbformat": 4,
 "nbformat_minor": 4
}
